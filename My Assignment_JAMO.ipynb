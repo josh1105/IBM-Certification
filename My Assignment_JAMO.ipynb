{
 "cells": [
  {
   "cell_type": "markdown",
   "metadata": {},
   "source": [
    "# My Jupyter Notebook on IBM Watson Studio"
   ]
  },
  {
   "cell_type": "markdown",
   "metadata": {},
   "source": [
    "**Joshua Angelo M. Ocampo**\n",
    "\n",
    "Data Scientist/Analyst"
   ]
  },
  {
   "cell_type": "markdown",
   "metadata": {},
   "source": [
    "*I am interested in Data Science because I get to to clean, transform, analyze, and storytell data to stakeholders for more useful insights*"
   ]
  },
  {
   "cell_type": "markdown",
   "metadata": {},
   "source": [
    "### My code prints the remainder when dividing whole numbers"
   ]
  },
  {
   "cell_type": "code",
   "execution_count": 9,
   "metadata": {},
   "outputs": [
    {
     "name": "stdout",
     "output_type": "stream",
     "text": [
      "4\n"
     ]
    }
   ],
   "source": [
    "dividend = 28\n",
    "divisor = 8\n",
    "mod = dividend%divisor\n",
    "print(mod)"
   ]
  },
  {
   "cell_type": "markdown",
   "metadata": {},
   "source": [
    "Math Operations | Are | ~~Not~~ | Fun\n",
    ":---: | :---: | :---: | :---:\n",
    "Addition | Subtraction | Multiplication | Division\n",
    "\n",
    "Here are the definitions of each operation when googled (click hyperlink):\n",
    "***\n",
    "\n",
    "* [Addition](https://www.google.com/search?q=addition&oq=addition&aqs=edge..69i57.1360j0j1&sourceid=chrome&ie=UTF-8)\n",
    "* [Subtraction](https://www.google.com/search?q=subtraction&oq=subtraction&aqs=edge..69i57.1511j0j9&sourceid=chrome&ie=UTF-8)\n",
    "* [Multiplication](https://www.google.com/search?q=multiplication&oq=multiplication&aqs=edge..69i57.2572j0j9&sourceid=chrome&ie=UTF-8)\n",
    "* [Division](https://www.google.com/search?q=division&ei=vo5EYee1KMyhoASUio3IDw&oq=division&gs_lcp=Cgdnd3Mtd2l6EAMyCggAELEDEIMBEEMyCggAELEDEIMBEEMyCggAELEDEIMBEEMyBAgAEEMyBAgAEEMyCggAELEDEIMBEEMyCwgAEIAEELEDEIMBMgsIABCABBCxAxCDATILCAAQgAQQsQMQgwEyCggAELEDEIMBEEM6CAgAELEDEIMBOggIABCABBCxA0oECEEYAFCTjgFYgpcBYP2YAWgAcAJ4AIABZogBvgWSAQM3LjGYAQCgAQHAAQE&sclient=gws-wiz&ved=0ahUKEwjnjPPYhYbzAhXMEIgKHRRFA_kQ4dUDCA4&uact=5)"
   ]
  }
 ],
 "metadata": {
  "kernelspec": {
   "display_name": "Python 3",
   "language": "python",
   "name": "python3"
  },
  "language_info": {
   "codemirror_mode": {
    "name": "ipython",
    "version": 3
   },
   "file_extension": ".py",
   "mimetype": "text/x-python",
   "name": "python",
   "nbconvert_exporter": "python",
   "pygments_lexer": "ipython3",
   "version": "3.8.3"
  }
 },
 "nbformat": 4,
 "nbformat_minor": 4
}
